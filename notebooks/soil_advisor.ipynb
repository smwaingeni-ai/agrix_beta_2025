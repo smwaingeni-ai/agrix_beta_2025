{
  "nbformat": 4,
  "nbformat_minor": 0,
  "metadata": {
    "colab": {
      "provenance": []
    },
    "kernelspec": {
      "name": "python3",
      "display_name": "Python 3"
    },
    "language_info": {
      "name": "python"
    }
  },
  "cells": [
    {
      "cell_type": "code",
      "execution_count": 2,
      "metadata": {
        "colab": {
          "base_uri": "https://localhost:8080/"
        },
        "id": "XSd4232467mU",
        "outputId": "0b59c562-1b1c-49c9-f7fb-d5376c080689"
      },
      "outputs": [
        {
          "output_type": "stream",
          "name": "stdout",
          "text": [
            "Cloning into 'agrix_beta_2025'...\n",
            "remote: Enumerating objects: 2014, done.\u001b[K\n",
            "remote: Counting objects: 100% (360/360), done.\u001b[K\n",
            "remote: Compressing objects: 100% (321/321), done.\u001b[K\n",
            "remote: Total 2014 (delta 126), reused 37 (delta 37), pack-reused 1654 (from 1)\u001b[K\n",
            "Receiving objects: 100% (2014/2014), 77.47 MiB | 20.71 MiB/s, done.\n",
            "Resolving deltas: 100% (933/933), done.\n",
            "Healthy  Maize___Leaf_Spot  Tomato___Bacterial_spot\n",
            "✅ CSV loaded with columns: ['region', 'soil_type', 'severity', 'treatment', 'suitable_crops', 'image_name']\n"
          ]
        }
      ],
      "source": [
        "# ✅ 1. Setup\n",
        "!rm -rf agrix_beta_2025\n",
        "!git clone https://github.com/smwaingeni-ai/agrix_beta_2025.git\n",
        "!ls agrix_beta_2025/assets/crops\n",
        "\n",
        "import pandas as pd\n",
        "from datetime import datetime\n",
        "\n",
        "# ✅ Step 2: Load CSV data\n",
        "csv_path = \"agrix_beta_2025/assets/data/soil_map_africa.csv\"\n",
        "\n",
        "try:\n",
        "    df = pd.read_csv(csv_path)\n",
        "    df.columns = df.columns.str.strip().str.lower()\n",
        "\n",
        "    required_cols = ['region', 'soil_type', 'severity', 'treatment', 'suitable_crops', 'image_name']\n",
        "    for col in required_cols:\n",
        "        if col not in df.columns:\n",
        "            raise KeyError(f\"❌ Missing column: {col}\")\n",
        "\n",
        "    print(\"✅ CSV loaded with columns:\", list(df.columns))\n",
        "except Exception as e:\n",
        "    print(f\"❌ Failed to load CSV: {e}\")\n",
        "    raise"
      ]
    },
    {
      "cell_type": "code",
      "source": [
        "# ✅ Step 3: Simple rule-based filter engine\n",
        "\n",
        "def query_soil_advice(region_input: str, soil_type_input: str, df_source: pd.DataFrame):\n",
        "    region_input = region_input.lower().strip()\n",
        "    soil_input = soil_type_input.lower().strip()\n",
        "\n",
        "    matches = df_source[\n",
        "        df_source['region'].str.lower().str.contains(region_input) &\n",
        "        df_source['soil_type'].str.lower().str.contains(soil_input)\n",
        "    ]\n",
        "\n",
        "    return matches\n"
      ],
      "metadata": {
        "id": "YEVOIpjX7g8t"
      },
      "execution_count": 3,
      "outputs": []
    },
    {
      "cell_type": "code",
      "source": [
        "# ✅ Step 4: Sample user inputs\n",
        "user_queries = [\n",
        "    {\"region\": \"Central\", \"soil_type\": \"Sandy\"},\n",
        "    {\"region\": \"Luapula\", \"soil_type\": \"Peaty\"},\n",
        "    {\"region\": \"Southern\", \"soil_type\": \"Acidic\"},\n",
        "    {\"region\": \"Western\", \"soil_type\": \"Waterlogged\"},\n",
        "    {\"region\": \"Unknown\", \"soil_type\": \"Unknown\"}\n",
        "]\n",
        "\n",
        "results_log = []\n",
        "\n",
        "for query in user_queries:\n",
        "    print(f\"\\n🔍 Input: Region = {query['region']}, Soil Type = {query['soil_type']}\")\n",
        "    matches = query_soil_advice(query[\"region\"], query[\"soil_type\"], df)\n",
        "\n",
        "    if not matches.empty:\n",
        "        for _, row in matches.iterrows():\n",
        "            print(f\"✅ Match Found:\")\n",
        "            print(f\"🌍 Region: {row['region']}\")\n",
        "            print(f\"🪴 Soil Type: {row['soil_type']}\")\n",
        "            print(f\"⚠️ Severity: {row['severity']}\")\n",
        "            print(f\"💡 Treatment: {row['treatment']}\")\n",
        "            print(f\"🌾 Suitable Crops: {row['suitable_crops']}\")\n",
        "            print(f\"🖼️ Image: {row['image_name']}\")\n",
        "            print()\n",
        "\n",
        "            results_log.append({\n",
        "                \"timestamp\": datetime.now().isoformat(),\n",
        "                \"region\": row['region'],\n",
        "                \"soil_type\": row['soil_type'],\n",
        "                \"severity\": row['severity'],\n",
        "                \"treatment\": row['treatment'],\n",
        "                \"suitable_crops\": row['suitable_crops'],\n",
        "                \"image\": row['image_name']\n",
        "            })\n",
        "    else:\n",
        "        print(\"❌ No matching recommendation found.\")\n"
      ],
      "metadata": {
        "colab": {
          "base_uri": "https://localhost:8080/"
        },
        "id": "1Zbjs9E47l0X",
        "outputId": "db77fce7-bbad-4e82-a983-19967e2aa615"
      },
      "execution_count": 4,
      "outputs": [
        {
          "output_type": "stream",
          "name": "stdout",
          "text": [
            "\n",
            "🔍 Input: Region = Central, Soil Type = Sandy\n",
            "✅ Match Found:\n",
            "🌍 Region: Central\n",
            "🪴 Soil Type: Sandy\n",
            "⚠️ Severity: Low\n",
            "💡 Treatment: Apply cow dung + lime\n",
            "🌾 Suitable Crops: Cassava; Millet; Sorghum\n",
            "🖼️ Image: sandy.jpg\n",
            "\n",
            "\n",
            "🔍 Input: Region = Luapula, Soil Type = Peaty\n",
            "✅ Match Found:\n",
            "🌍 Region: Luapula\n",
            "🪴 Soil Type: Peaty\n",
            "⚠️ Severity: Low\n",
            "💡 Treatment: Drain and apply balanced fertilizer\n",
            "🌾 Suitable Crops: Rice; Taro\n",
            "🖼️ Image: peaty.jpg\n",
            "\n",
            "\n",
            "🔍 Input: Region = Southern, Soil Type = Acidic\n",
            "✅ Match Found:\n",
            "🌍 Region: Southern\n",
            "🪴 Soil Type: Acidic\n",
            "⚠️ Severity: Low\n",
            "💡 Treatment: Apply lime and rotate with legumes\n",
            "🌾 Suitable Crops: Sweet Potatoes; Beans\n",
            "🖼️ Image: acidic.jpg\n",
            "\n",
            "\n",
            "🔍 Input: Region = Western, Soil Type = Waterlogged\n",
            "✅ Match Found:\n",
            "🌍 Region: Western\n",
            "🪴 Soil Type: Waterlogged\n",
            "⚠️ Severity: Very Low\n",
            "💡 Treatment: Raise planting beds and improve drainage\n",
            "🌾 Suitable Crops: Rice; Sugarcane\n",
            "🖼️ Image: waterlogged.jpg\n",
            "\n",
            "\n",
            "🔍 Input: Region = Unknown, Soil Type = Unknown\n",
            "❌ No matching recommendation found.\n"
          ]
        }
      ]
    },
    {
      "cell_type": "code",
      "source": [
        "# ✅ Step 5: Save diagnosis log (optional)\n",
        "if results_log:\n",
        "    df_log = pd.DataFrame(results_log)\n",
        "    log_file = \"soil_diagnosis_log.csv\"\n",
        "    df_log.to_csv(f\"agrix_beta_2025/assets/data/{log_file}\", index=False)\n",
        "    print(f\"📝 Diagnosis log saved to: {log_file}\")\n",
        "else:\n",
        "    print(\"📭 No results to log.\")\n"
      ],
      "metadata": {
        "colab": {
          "base_uri": "https://localhost:8080/"
        },
        "id": "wCYRfQl-70GH",
        "outputId": "bee5d73e-5abe-4643-d056-b92c87c99770"
      },
      "execution_count": 5,
      "outputs": [
        {
          "output_type": "stream",
          "name": "stdout",
          "text": [
            "📝 Diagnosis log saved to: soil_diagnosis_log.csv\n"
          ]
        }
      ]
    }
  ]
}