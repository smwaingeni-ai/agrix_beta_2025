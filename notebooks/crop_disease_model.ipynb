{
  "nbformat": 4,
  "nbformat_minor": 0,
  "metadata": {
    "colab": {
      "provenance": []
    },
    "kernelspec": {
      "name": "python3",
      "display_name": "Python 3"
    },
    "language_info": {
      "name": "python"
    }
  },
  "cells": [
    {
      "cell_type": "markdown",
      "source": [
        "**Crop Disease Model**"
      ],
      "metadata": {
        "id": "lRdIfLNCam-A"
      }
    },
    {
      "cell_type": "code",
      "source": [
        "# ✅ 1. Setup\n",
        "!rm -rf agrix_beta_2025\n",
        "!git clone https://github.com/smwaingeni-ai/agrix_beta_2025.git\n",
        "!ls agrix_beta_2025/assets/crops\n",
        "\n",
        "!pip install tensorflow matplotlib seaborn --quiet\n"
      ],
      "metadata": {
        "colab": {
          "base_uri": "https://localhost:8080/"
        },
        "id": "l8XHwjLNas2p",
        "outputId": "aff3105c-2a1f-4f33-8256-99a652a83bd4"
      },
      "execution_count": 39,
      "outputs": [
        {
          "output_type": "stream",
          "name": "stdout",
          "text": [
            "Cloning into 'agrix_beta_2025'...\n",
            "remote: Enumerating objects: 1899, done.\u001b[K\n",
            "remote: Counting objects: 100% (245/245), done.\u001b[K\n",
            "remote: Compressing objects: 100% (208/208), done.\u001b[K\n",
            "remote: Total 1899 (delta 89), reused 37 (delta 37), pack-reused 1654 (from 1)\u001b[K\n",
            "Receiving objects: 100% (1899/1899), 44.50 MiB | 28.46 MiB/s, done.\n",
            "Resolving deltas: 100% (896/896), done.\n",
            "Healthy  Maize___Leaf_Spot  Tomato___Bacterial_spot\n"
          ]
        }
      ]
    },
    {
      "cell_type": "markdown",
      "source": [
        "**1. Important Libraries**"
      ],
      "metadata": {
        "id": "qPqPtTvIa0Rv"
      }
    },
    {
      "cell_type": "code",
      "source": [
        "# ✅ 2. Imports/Libraries\n",
        "import os\n",
        "import pathlib\n",
        "import numpy as np\n",
        "import matplotlib.pyplot as plt\n",
        "import seaborn as sns\n",
        "import tensorflow as tf\n",
        "from tensorflow.keras import layers, models, regularizers\n",
        "from tensorflow.keras.preprocessing.image import ImageDataGenerator\n",
        "from tensorflow.keras.callbacks import EarlyStopping, ReduceLROnPlateau\n",
        "from sklearn.metrics import accuracy_score, classification_report, confusion_matrix\n"
      ],
      "metadata": {
        "id": "46GbNIIZa4x8"
      },
      "execution_count": 40,
      "outputs": []
    },
    {
      "cell_type": "markdown",
      "source": [
        "**2. Constraints**"
      ],
      "metadata": {
        "id": "o8XVT5Ava_U4"
      }
    },
    {
      "cell_type": "code",
      "source": [
        "# ✅ 3. Constants\n",
        "DATA_DIR = \"/content/agrix_beta_2025/assets/crops\"\n",
        "IMAGE_SIZE = (224, 224)\n",
        "BATCH_SIZE = 16\n",
        "EPOCHS = 50\n",
        "MODEL_NAME = \"crop_disease_model.h5\"\n",
        "TFLITE_NAME = \"crop_disease_model.tflite\"\n",
        "LABEL_FILE = \"crop_labels.txt\""
      ],
      "metadata": {
        "id": "TjUaBqM9bCYq"
      },
      "execution_count": 41,
      "outputs": []
    },
    {
      "cell_type": "markdown",
      "source": [
        "**3. Helper Functions**"
      ],
      "metadata": {
        "id": "bdXeX05AbKts"
      }
    },
    {
      "cell_type": "code",
      "source": [
        "# ✅ 4. Helper Functions\n",
        "\n",
        "def load_classes(data_dir):\n",
        "    data_dir = pathlib.Path(data_dir)\n",
        "    return sorted([f.name for f in data_dir.glob(\"*\") if f.is_dir()])\n",
        "\n",
        "def create_generators(data_dir, image_size, batch_size):\n",
        "    datagen = ImageDataGenerator(\n",
        "        rescale=1./255,\n",
        "        validation_split=0.2,\n",
        "        rotation_range=25,\n",
        "        zoom_range=0.3,\n",
        "        shear_range=0.25,\n",
        "        horizontal_flip=True\n",
        "    )\n",
        "    train_gen = datagen.flow_from_directory(\n",
        "        data_dir, target_size=image_size, batch_size=batch_size,\n",
        "        class_mode='categorical', subset='training')\n",
        "    val_gen = datagen.flow_from_directory(\n",
        "        data_dir, target_size=image_size, batch_size=batch_size,\n",
        "        class_mode='categorical', subset='validation', shuffle=False)\n",
        "    return train_gen, val_gen\n"
      ],
      "metadata": {
        "id": "9E4ROJQVbNkt"
      },
      "execution_count": 42,
      "outputs": []
    },
    {
      "cell_type": "markdown",
      "source": [
        "**5. Model Build**"
      ],
      "metadata": {
        "id": "T0ePjkvTbSB1"
      }
    },
    {
      "cell_type": "code",
      "source": [
        "# ✅ 5. Model Build\n",
        "\n",
        "def build_model(num_classes):\n",
        "    base_model = tf.keras.applications.MobileNetV2(\n",
        "        input_shape=IMAGE_SIZE + (3,),\n",
        "        include_top=False,\n",
        "        weights='imagenet'\n",
        "    )\n",
        "    base_model.trainable = True\n",
        "    for layer in base_model.layers[:-50]:\n",
        "        layer.trainable = False\n",
        "\n",
        "    model = models.Sequential([\n",
        "        base_model,\n",
        "        layers.GlobalAveragePooling2D(),\n",
        "        layers.Dense(64, activation='relu', kernel_regularizer=regularizers.l2(0.01)),\n",
        "        layers.Dropout(0.5),\n",
        "        layers.Dense(num_classes, activation='softmax')\n",
        "    ])\n",
        "\n",
        "    loss_fn = tf.keras.losses.CategoricalCrossentropy(label_smoothing=0.1)\n",
        "    model.compile(optimizer='adam', loss=loss_fn, metrics=['accuracy'])\n",
        "    return model\n"
      ],
      "metadata": {
        "id": "OJj-Dh_CbUsx"
      },
      "execution_count": 43,
      "outputs": []
    },
    {
      "cell_type": "markdown",
      "source": [
        "**6. Model Training**"
      ],
      "metadata": {
        "id": "Dz3MT30abcYQ"
      }
    },
    {
      "cell_type": "code",
      "source": [
        "# ✅ 6. Train Model\n",
        "\n",
        "def train_model(model, train_gen, val_gen):\n",
        "    early_stop = EarlyStopping(monitor='val_loss', patience=5, restore_best_weights=True)\n",
        "    reduce_lr = ReduceLROnPlateau(monitor='val_loss', factor=0.3, patience=3, min_lr=1e-6)\n",
        "\n",
        "    history = model.fit(\n",
        "        train_gen,\n",
        "        validation_data=val_gen,\n",
        "        epochs=EPOCHS,\n",
        "        callbacks=[early_stop, reduce_lr]\n",
        "    )\n",
        "    return history\n"
      ],
      "metadata": {
        "id": "RsZ1RolhbfKo"
      },
      "execution_count": 44,
      "outputs": []
    },
    {
      "cell_type": "markdown",
      "source": [
        "**7. Model Evaluation**"
      ],
      "metadata": {
        "id": "jm4vsCZ2bjak"
      }
    },
    {
      "cell_type": "code",
      "source": [
        "# ✅ 7. Evaluate Model\n",
        "\n",
        "def evaluate_model(model, val_gen):\n",
        "    y_probs = model.predict(val_gen)\n",
        "    y_pred = np.argmax(y_probs, axis=1)\n",
        "    y_true = val_gen.classes\n",
        "\n",
        "    acc = accuracy_score(y_true, y_pred)\n",
        "    print(f\"✅ Accuracy: {acc:.4f}\\n\")\n",
        "\n",
        "    print(\"📋 Classification Report:\")\n",
        "    print(classification_report(y_true, y_pred))\n",
        "\n",
        "    cm = confusion_matrix(y_true, y_pred)\n",
        "    plt.figure(figsize=(6,5))\n",
        "    sns.heatmap(cm, annot=True, fmt=\"d\", cmap=\"Blues\",\n",
        "                xticklabels=val_gen.class_indices.keys(),\n",
        "                yticklabels=val_gen.class_indices.keys())\n",
        "    plt.title(\"Confusion Matrix\")\n",
        "    plt.xlabel(\"Predicted\")\n",
        "    plt.ylabel(\"True\")\n",
        "    plt.tight_layout()\n",
        "    plt.show()\n"
      ],
      "metadata": {
        "id": "CYi1o-oabmTi"
      },
      "execution_count": 45,
      "outputs": []
    },
    {
      "cell_type": "markdown",
      "source": [
        "**8. Save Model**"
      ],
      "metadata": {
        "id": "6mqhvNW3bq7R"
      }
    },
    {
      "cell_type": "code",
      "source": [
        "# ✅ 8. Save Model\n",
        "\n",
        "def save_model_and_labels(model, label_file, tflite_name, model_name, class_names):\n",
        "    model.save(model_name)\n",
        "    print(f\"✅ Saved model to {model_name}\")\n",
        "\n",
        "    # TFLite\n",
        "    converter = tf.lite.TFLiteConverter.from_keras_model(model)\n",
        "    converter.optimizations = [tf.lite.Optimize.DEFAULT]\n",
        "    tflite_model = converter.convert()\n",
        "\n",
        "    with open(tflite_name, \"wb\") as f:\n",
        "        f.write(tflite_model)\n",
        "    print(f\"✅ Exported to {tflite_name}\")\n",
        "\n",
        "    # Labels\n",
        "    with open(label_file, \"w\") as f:\n",
        "        for label in class_names:\n",
        "            f.write(f\"{label}\\n\")\n",
        "    print(f\"✅ Saved labels to {label_file}\")\n"
      ],
      "metadata": {
        "id": "7FP1q0QDbt8X"
      },
      "execution_count": 46,
      "outputs": []
    },
    {
      "cell_type": "markdown",
      "source": [
        "**9. Execution**"
      ],
      "metadata": {
        "id": "A0k1vZr0b0Nm"
      }
    },
    {
      "cell_type": "code",
      "source": [
        "# ✅ 9. Execute Full Pipeline\n",
        "\n",
        "# Load class names\n",
        "class_names = load_classes(DATA_DIR)\n",
        "\n",
        "# Generators\n",
        "train_gen, val_gen = create_generators(DATA_DIR, IMAGE_SIZE, BATCH_SIZE)\n",
        "\n",
        "# Build model\n",
        "model = build_model(len(class_names))\n",
        "\n",
        "# Train\n",
        "history = train_model(model, train_gen, val_gen)\n",
        "\n",
        "# Evaluate\n",
        "evaluate_model(model, val_gen)\n",
        "\n",
        "# Save\n",
        "save_model_and_labels(model, LABEL_FILE, TFLITE_NAME, MODEL_NAME, class_names)\n"
      ],
      "metadata": {
        "colab": {
          "base_uri": "https://localhost:8080/",
          "height": 1000
        },
        "id": "hPrrucivb3F9",
        "outputId": "4ea808a1-8403-40e9-93a9-19520c099522"
      },
      "execution_count": 47,
      "outputs": [
        {
          "output_type": "stream",
          "name": "stdout",
          "text": [
            "Found 256 images belonging to 3 classes.\n",
            "Found 63 images belonging to 3 classes.\n"
          ]
        },
        {
          "output_type": "stream",
          "name": "stderr",
          "text": [
            "/usr/local/lib/python3.11/dist-packages/keras/src/trainers/data_adapters/py_dataset_adapter.py:121: UserWarning: Your `PyDataset` class should call `super().__init__(**kwargs)` in its constructor. `**kwargs` can include `workers`, `use_multiprocessing`, `max_queue_size`. Do not pass these arguments to `fit()`, as they will be ignored.\n",
            "  self._warn_if_super_not_called()\n"
          ]
        },
        {
          "output_type": "stream",
          "name": "stdout",
          "text": [
            "Epoch 1/50\n",
            "\u001b[1m 1/16\u001b[0m \u001b[32m━\u001b[0m\u001b[37m━━━━━━━━━━━━━━━━━━━\u001b[0m \u001b[1m6:58\u001b[0m 28s/step - accuracy: 0.1875 - loss: 2.8868"
          ]
        },
        {
          "output_type": "stream",
          "name": "stderr",
          "text": [
            "/usr/local/lib/python3.11/dist-packages/PIL/TiffImagePlugin.py:950: UserWarning: Corrupt EXIF data.  Expecting to read 4 bytes but only got 0. \n",
            "  warnings.warn(str(msg))\n"
          ]
        },
        {
          "output_type": "stream",
          "name": "stdout",
          "text": [
            "\u001b[1m16/16\u001b[0m \u001b[32m━━━━━━━━━━━━━━━━━━━━\u001b[0m\u001b[37m\u001b[0m \u001b[1m52s\u001b[0m 2s/step - accuracy: 0.4964 - loss: 2.3721 - val_accuracy: 0.3810 - val_loss: 5.2756 - learning_rate: 0.0010\n",
            "Epoch 2/50\n",
            "\u001b[1m16/16\u001b[0m \u001b[32m━━━━━━━━━━━━━━━━━━━━\u001b[0m\u001b[37m\u001b[0m \u001b[1m22s\u001b[0m 1s/step - accuracy: 0.8016 - loss: 1.7666 - val_accuracy: 0.5873 - val_loss: 2.8300 - learning_rate: 0.0010\n",
            "Epoch 3/50\n",
            "\u001b[1m16/16\u001b[0m \u001b[32m━━━━━━━━━━━━━━━━━━━━\u001b[0m\u001b[37m\u001b[0m \u001b[1m20s\u001b[0m 1s/step - accuracy: 0.9005 - loss: 1.5163 - val_accuracy: 0.6190 - val_loss: 2.4541 - learning_rate: 0.0010\n",
            "Epoch 4/50\n",
            "\u001b[1m16/16\u001b[0m \u001b[32m━━━━━━━━━━━━━━━━━━━━\u001b[0m\u001b[37m\u001b[0m \u001b[1m21s\u001b[0m 1s/step - accuracy: 0.8979 - loss: 1.3826 - val_accuracy: 0.4444 - val_loss: 3.9899 - learning_rate: 0.0010\n",
            "Epoch 5/50\n",
            "\u001b[1m16/16\u001b[0m \u001b[32m━━━━━━━━━━━━━━━━━━━━\u001b[0m\u001b[37m\u001b[0m \u001b[1m23s\u001b[0m 1s/step - accuracy: 0.9819 - loss: 1.1725 - val_accuracy: 0.4921 - val_loss: 3.9329 - learning_rate: 0.0010\n",
            "Epoch 6/50\n",
            "\u001b[1m16/16\u001b[0m \u001b[32m━━━━━━━━━━━━━━━━━━━━\u001b[0m\u001b[37m\u001b[0m \u001b[1m20s\u001b[0m 1s/step - accuracy: 0.9648 - loss: 1.1024 - val_accuracy: 0.4921 - val_loss: 3.5723 - learning_rate: 0.0010\n",
            "Epoch 7/50\n",
            "\u001b[1m16/16\u001b[0m \u001b[32m━━━━━━━━━━━━━━━━━━━━\u001b[0m\u001b[37m\u001b[0m \u001b[1m22s\u001b[0m 1s/step - accuracy: 0.9875 - loss: 0.9988 - val_accuracy: 0.5873 - val_loss: 2.9317 - learning_rate: 3.0000e-04\n",
            "Epoch 8/50\n",
            "\u001b[1m16/16\u001b[0m \u001b[32m━━━━━━━━━━━━━━━━━━━━\u001b[0m\u001b[37m\u001b[0m \u001b[1m40s\u001b[0m 1s/step - accuracy: 0.9673 - loss: 0.9857 - val_accuracy: 0.4762 - val_loss: 3.2889 - learning_rate: 3.0000e-04\n"
          ]
        },
        {
          "output_type": "stream",
          "name": "stderr",
          "text": [
            "WARNING:tensorflow:5 out of the last 13 calls to <function TensorFlowTrainer.make_predict_function.<locals>.one_step_on_data_distributed at 0x7a562bc604a0> triggered tf.function retracing. Tracing is expensive and the excessive number of tracings could be due to (1) creating @tf.function repeatedly in a loop, (2) passing tensors with different shapes, (3) passing Python objects instead of tensors. For (1), please define your @tf.function outside of the loop. For (2), @tf.function has reduce_retracing=True option that can avoid unnecessary retracing. For (3), please refer to https://www.tensorflow.org/guide/function#controlling_retracing and https://www.tensorflow.org/api_docs/python/tf/function for  more details.\n"
          ]
        },
        {
          "output_type": "stream",
          "name": "stdout",
          "text": [
            "\u001b[1m4/4\u001b[0m \u001b[32m━━━━━━━━━━━━━━━━━━━━\u001b[0m\u001b[37m\u001b[0m \u001b[1m6s\u001b[0m 1s/step\n",
            "✅ Accuracy: 0.6032\n",
            "\n",
            "📋 Classification Report:\n",
            "              precision    recall  f1-score   support\n",
            "\n",
            "           0       0.52      0.80      0.63        20\n",
            "           1       0.63      0.77      0.69        22\n",
            "           2       1.00      0.24      0.38        21\n",
            "\n",
            "    accuracy                           0.60        63\n",
            "   macro avg       0.72      0.60      0.57        63\n",
            "weighted avg       0.72      0.60      0.57        63\n",
            "\n"
          ]
        },
        {
          "output_type": "display_data",
          "data": {
            "text/plain": [
              "<Figure size 600x500 with 2 Axes>"
            ],
            "image/png": "[encoded data removed]"
          },
          "metadata": {}
        },
        {
          "output_type": "stream",
          "name": "stderr",
          "text": [
            "WARNING:absl:You are saving your model as an HDF5 file via `model.save()` or `keras.saving.save_model(model)`. This file format is considered legacy. We recommend using instead the native Keras format, e.g. `model.save('my_model.keras')` or `keras.saving.save_model(model, 'my_model.keras')`. \n"
          ]
        },
        {
          "output_type": "stream",
          "name": "stdout",
          "text": [
            "✅ Saved model to crop_disease_model.h5\n",
            "Saved artifact at '/tmp/tmp3g3px8d3'. The following endpoints are available:\n",
            "\n",
            "* Endpoint 'serve'\n",
            "  args_0 (POSITIONAL_ONLY): TensorSpec(shape=(None, 224, 224, 3), dtype=tf.float32, name='keras_tensor_1434')\n",
            "Output Type:\n",
            "  TensorSpec(shape=(None, 3), dtype=tf.float32, name=None)\n",
            "Captures:\n",
            "  134510461533072: TensorSpec(shape=(), dtype=tf.resource, name=None)\n",
            "  134510461526736: TensorSpec(shape=(), dtype=tf.resource, name=None)\n",
            "  134510461526928: TensorSpec(shape=(), dtype=tf.resource, name=None)\n",
            "  134510461532880: TensorSpec(shape=(), dtype=tf.resource, name=None)\n",
            "  134510461531152: TensorSpec(shape=(), dtype=tf.resource, name=None)\n",
            "  134510461528272: TensorSpec(shape=(), dtype=tf.resource, name=None)\n",
            "  134510461528080: TensorSpec(shape=(), dtype=tf.resource, name=None)\n",
            "  134510461527312: TensorSpec(shape=(), dtype=tf.resource, name=None)\n",
            "  134510461527888: TensorSpec(shape=(), dtype=tf.resource, name=None)\n",
            "  134510461530768: TensorSpec(shape=(), dtype=tf.resource, name=None)\n",
            "  134510461534032: TensorSpec(shape=(), dtype=tf.resource, name=None)\n",
            "  134510555448336: TensorSpec(shape=(), dtype=tf.resource, name=None)\n",
            "  134510555447760: TensorSpec(shape=(), dtype=tf.resource, name=None)\n",
            "  134510461527120: TensorSpec(shape=(), dtype=tf.resource, name=None)\n",
            "  134510555448720: TensorSpec(shape=(), dtype=tf.resource, name=None)\n",
            "  134510555449872: TensorSpec(shape=(), dtype=tf.resource, name=None)\n",
            "  134510555450256: TensorSpec(shape=(), dtype=tf.resource, name=None)\n",
            "  134510555450640: TensorSpec(shape=(), dtype=tf.resource, name=None)\n",
            "  134510555450448: TensorSpec(shape=(), dtype=tf.resource, name=None)\n",
            "  134510555447952: TensorSpec(shape=(), dtype=tf.resource, name=None)\n",
            "  134510555451792: TensorSpec(shape=(), dtype=tf.resource, name=None)\n",
            "  134510555452176: TensorSpec(shape=(), dtype=tf.resource, name=None)\n",
            "  134510555452560: TensorSpec(shape=(), dtype=tf.resource, name=None)\n",
            "  134510555452368: TensorSpec(shape=(), dtype=tf.resource, name=None)\n",
            "  134510555447376: TensorSpec(shape=(), dtype=tf.resource, name=None)\n",
            "  134510555453712: TensorSpec(shape=(), dtype=tf.resource, name=None)\n",
            "  134510555454096: TensorSpec(shape=(), dtype=tf.resource, name=None)\n",
            "  134510555454480: TensorSpec(shape=(), dtype=tf.resource, name=None)\n",
            "  134510555454288: TensorSpec(shape=(), dtype=tf.resource, name=None)\n",
            "  134510555449488: TensorSpec(shape=(), dtype=tf.resource, name=None)\n",
            "  134510555455632: TensorSpec(shape=(), dtype=tf.resource, name=None)\n",
            "  134510555456016: TensorSpec(shape=(), dtype=tf.resource, name=None)\n",
            "  134510555456400: TensorSpec(shape=(), dtype=tf.resource, name=None)\n",
            "  134510555456208: TensorSpec(shape=(), dtype=tf.resource, name=None)\n",
            "  134510555451408: TensorSpec(shape=(), dtype=tf.resource, name=None)\n",
            "  134510555457552: TensorSpec(shape=(), dtype=tf.resource, name=None)\n",
            "  134510555457936: TensorSpec(shape=(), dtype=tf.resource, name=None)\n",
            "  134510555458320: TensorSpec(shape=(), dtype=tf.resource, name=None)\n",
            "  134510555458128: TensorSpec(shape=(), dtype=tf.resource, name=None)\n",
            "  134510555453328: TensorSpec(shape=(), dtype=tf.resource, name=None)\n",
            "  134510555459472: TensorSpec(shape=(), dtype=tf.resource, name=None)\n",
            "  134510555459856: TensorSpec(shape=(), dtype=tf.resource, name=None)\n",
            "  134510555460240: TensorSpec(shape=(), dtype=tf.resource, name=None)\n",
            "  134510555460048: TensorSpec(shape=(), dtype=tf.resource, name=None)\n",
            "  134510555455248: TensorSpec(shape=(), dtype=tf.resource, name=None)\n",
            "  134510555461392: TensorSpec(shape=(), dtype=tf.resource, name=None)\n",
            "  134510555461776: TensorSpec(shape=(), dtype=tf.resource, name=None)\n",
            "  134510555462160: TensorSpec(shape=(), dtype=tf.resource, name=None)\n",
            "  134510555461968: TensorSpec(shape=(), dtype=tf.resource, name=None)\n",
            "  134510555457168: TensorSpec(shape=(), dtype=tf.resource, name=None)\n",
            "  134510555463312: TensorSpec(shape=(), dtype=tf.resource, name=None)\n",
            "  134510555448528: TensorSpec(shape=(), dtype=tf.resource, name=None)\n",
            "  134510461599824: TensorSpec(shape=(), dtype=tf.resource, name=None)\n",
            "  134510555462928: TensorSpec(shape=(), dtype=tf.resource, name=None)\n",
            "  134510555461008: TensorSpec(shape=(), dtype=tf.resource, name=None)\n",
            "  134510461601360: TensorSpec(shape=(), dtype=tf.resource, name=None)\n",
            "  134510461601744: TensorSpec(shape=(), dtype=tf.resource, name=None)\n",
            "  134510461602128: TensorSpec(shape=(), dtype=tf.resource, name=None)\n",
            "  134510461601936: TensorSpec(shape=(), dtype=tf.resource, name=None)\n",
            "  134510461600592: TensorSpec(shape=(), dtype=tf.resource, name=None)\n",
            "  134510461603280: TensorSpec(shape=(), dtype=tf.resource, name=None)\n",
            "  134510461603664: TensorSpec(shape=(), dtype=tf.resource, name=None)\n",
            "  134510461604048: TensorSpec(shape=(), dtype=tf.resource, name=None)\n",
            "  134510461603856: TensorSpec(shape=(), dtype=tf.resource, name=None)\n",
            "  134510461600784: TensorSpec(shape=(), dtype=tf.resource, name=None)\n",
            "  134510461605200: TensorSpec(shape=(), dtype=tf.resource, name=None)\n",
            "  134510461605584: TensorSpec(shape=(), dtype=tf.resource, name=None)\n",
            "  134510461605968: TensorSpec(shape=(), dtype=tf.resource, name=None)\n",
            "  134510461605776: TensorSpec(shape=(), dtype=tf.resource, name=None)\n",
            "  134510461600016: TensorSpec(shape=(), dtype=tf.resource, name=None)\n",
            "  134510461607120: TensorSpec(shape=(), dtype=tf.resource, name=None)\n",
            "  134510461607504: TensorSpec(shape=(), dtype=tf.resource, name=None)\n",
            "  134510461607888: TensorSpec(shape=(), dtype=tf.resource, name=None)\n",
            "  134510461607696: TensorSpec(shape=(), dtype=tf.resource, name=None)\n",
            "  134510461602896: TensorSpec(shape=(), dtype=tf.resource, name=None)\n",
            "  134510461609040: TensorSpec(shape=(), dtype=tf.resource, name=None)\n",
            "  134510461609424: TensorSpec(shape=(), dtype=tf.resource, name=None)\n",
            "  134510461609808: TensorSpec(shape=(), dtype=tf.resource, name=None)\n",
            "  134510461609616: TensorSpec(shape=(), dtype=tf.resource, name=None)\n",
            "  134510461604816: TensorSpec(shape=(), dtype=tf.resource, name=None)\n",
            "  134510461610960: TensorSpec(shape=(), dtype=tf.resource, name=None)\n",
            "  134510461611344: TensorSpec(shape=(), dtype=tf.resource, name=None)\n",
            "  134510461611728: TensorSpec(shape=(), dtype=tf.resource, name=None)\n",
            "  134510461611536: TensorSpec(shape=(), dtype=tf.resource, name=None)\n",
            "  134510461606736: TensorSpec(shape=(), dtype=tf.resource, name=None)\n",
            "  134510461612880: TensorSpec(shape=(), dtype=tf.resource, name=None)\n",
            "  134510461613264: TensorSpec(shape=(), dtype=tf.resource, name=None)\n",
            "  134510461613648: TensorSpec(shape=(), dtype=tf.resource, name=None)\n",
            "  134510461613456: TensorSpec(shape=(), dtype=tf.resource, name=None)\n",
            "  134510461608656: TensorSpec(shape=(), dtype=tf.resource, name=None)\n",
            "  134510461614800: TensorSpec(shape=(), dtype=tf.resource, name=None)\n",
            "  134510461615184: TensorSpec(shape=(), dtype=tf.resource, name=None)\n",
            "  134510461615952: TensorSpec(shape=(), dtype=tf.resource, name=None)\n",
            "  134510461615376: TensorSpec(shape=(), dtype=tf.resource, name=None)\n",
            "  134510461610576: TensorSpec(shape=(), dtype=tf.resource, name=None)\n",
            "  134510461600976: TensorSpec(shape=(), dtype=tf.resource, name=None)\n",
            "  134510523384848: TensorSpec(shape=(), dtype=tf.resource, name=None)\n",
            "  134510523384272: TensorSpec(shape=(), dtype=tf.resource, name=None)\n",
            "  134510461612496: TensorSpec(shape=(), dtype=tf.resource, name=None)\n",
            "  134510523385232: TensorSpec(shape=(), dtype=tf.resource, name=None)\n",
            "  134510523386384: TensorSpec(shape=(), dtype=tf.resource, name=None)\n",
            "  134510523386768: TensorSpec(shape=(), dtype=tf.resource, name=None)\n",
            "  134510523387152: TensorSpec(shape=(), dtype=tf.resource, name=None)\n",
            "  134510523386960: TensorSpec(shape=(), dtype=tf.resource, name=None)\n",
            "  134510523384464: TensorSpec(shape=(), dtype=tf.resource, name=None)\n",
            "  134510523388304: TensorSpec(shape=(), dtype=tf.resource, name=None)\n",
            "  134510523388688: TensorSpec(shape=(), dtype=tf.resource, name=None)\n",
            "  134510523389072: TensorSpec(shape=(), dtype=tf.resource, name=None)\n",
            "  134510523388880: TensorSpec(shape=(), dtype=tf.resource, name=None)\n",
            "  134510523383888: TensorSpec(shape=(), dtype=tf.resource, name=None)\n",
            "  134510523390224: TensorSpec(shape=(), dtype=tf.resource, name=None)\n",
            "  134510523390608: TensorSpec(shape=(), dtype=tf.resource, name=None)\n",
            "  134510523390992: TensorSpec(shape=(), dtype=tf.resource, name=None)\n",
            "  134510523390800: TensorSpec(shape=(), dtype=tf.resource, name=None)\n",
            "  134510523386000: TensorSpec(shape=(), dtype=tf.resource, name=None)\n",
            "  134510523392144: TensorSpec(shape=(), dtype=tf.resource, name=None)\n",
            "  134510523392528: TensorSpec(shape=(), dtype=tf.resource, name=None)\n",
            "  134510523392912: TensorSpec(shape=(), dtype=tf.resource, name=None)\n",
            "  134510523392720: TensorSpec(shape=(), dtype=tf.resource, name=None)\n",
            "  134510523387920: TensorSpec(shape=(), dtype=tf.resource, name=None)\n",
            "  134510523394064: TensorSpec(shape=(), dtype=tf.resource, name=None)\n",
            "  134510523394448: TensorSpec(shape=(), dtype=tf.resource, name=None)\n",
            "  134510523394832: TensorSpec(shape=(), dtype=tf.resource, name=None)\n",
            "  134510523394640: TensorSpec(shape=(), dtype=tf.resource, name=None)\n",
            "  134510523389840: TensorSpec(shape=(), dtype=tf.resource, name=None)\n",
            "  134510523395984: TensorSpec(shape=(), dtype=tf.resource, name=None)\n",
            "  134510523396368: TensorSpec(shape=(), dtype=tf.resource, name=None)\n",
            "  134510523396752: TensorSpec(shape=(), dtype=tf.resource, name=None)\n",
            "  134510523396560: TensorSpec(shape=(), dtype=tf.resource, name=None)\n",
            "  134510523391760: TensorSpec(shape=(), dtype=tf.resource, name=None)\n",
            "  134510523397904: TensorSpec(shape=(), dtype=tf.resource, name=None)\n",
            "  134510523398288: TensorSpec(shape=(), dtype=tf.resource, name=None)\n",
            "  134510523398672: TensorSpec(shape=(), dtype=tf.resource, name=None)\n",
            "  134510523398480: TensorSpec(shape=(), dtype=tf.resource, name=None)\n",
            "  134510523393680: TensorSpec(shape=(), dtype=tf.resource, name=None)\n",
            "  134510523399824: TensorSpec(shape=(), dtype=tf.resource, name=None)\n",
            "  134510523385040: TensorSpec(shape=(), dtype=tf.resource, name=None)\n",
            "  134510522957904: TensorSpec(shape=(), dtype=tf.resource, name=None)\n",
            "  134510523399440: TensorSpec(shape=(), dtype=tf.resource, name=None)\n",
            "  134510523397520: TensorSpec(shape=(), dtype=tf.resource, name=None)\n",
            "  134510522959440: TensorSpec(shape=(), dtype=tf.resource, name=None)\n",
            "  134510522959824: TensorSpec(shape=(), dtype=tf.resource, name=None)\n",
            "  134510522960208: TensorSpec(shape=(), dtype=tf.resource, name=None)\n",
            "  134510522960016: TensorSpec(shape=(), dtype=tf.resource, name=None)\n",
            "  134510522958672: TensorSpec(shape=(), dtype=tf.resource, name=None)\n",
            "  134510522961360: TensorSpec(shape=(), dtype=tf.resource, name=None)\n",
            "  134510522961744: TensorSpec(shape=(), dtype=tf.resource, name=None)\n",
            "  134510522962128: TensorSpec(shape=(), dtype=tf.resource, name=None)\n",
            "  134510522961936: TensorSpec(shape=(), dtype=tf.resource, name=None)\n",
            "  134510522958864: TensorSpec(shape=(), dtype=tf.resource, name=None)\n",
            "  134510522963280: TensorSpec(shape=(), dtype=tf.resource, name=None)\n",
            "  134510522963664: TensorSpec(shape=(), dtype=tf.resource, name=None)\n",
            "  134510522964048: TensorSpec(shape=(), dtype=tf.resource, name=None)\n",
            "  134510522963856: TensorSpec(shape=(), dtype=tf.resource, name=None)\n",
            "  134510522958096: TensorSpec(shape=(), dtype=tf.resource, name=None)\n",
            "  134510522965200: TensorSpec(shape=(), dtype=tf.resource, name=None)\n",
            "  134510522965584: TensorSpec(shape=(), dtype=tf.resource, name=None)\n",
            "  134510522965968: TensorSpec(shape=(), dtype=tf.resource, name=None)\n",
            "  134510522965776: TensorSpec(shape=(), dtype=tf.resource, name=None)\n",
            "  134510522960976: TensorSpec(shape=(), dtype=tf.resource, name=None)\n",
            "  134510522967120: TensorSpec(shape=(), dtype=tf.resource, name=None)\n",
            "  134510522967504: TensorSpec(shape=(), dtype=tf.resource, name=None)\n",
            "  134510522967888: TensorSpec(shape=(), dtype=tf.resource, name=None)\n",
            "  134510522967696: TensorSpec(shape=(), dtype=tf.resource, name=None)\n",
            "  134510522962896: TensorSpec(shape=(), dtype=tf.resource, name=None)\n",
            "  134510522969040: TensorSpec(shape=(), dtype=tf.resource, name=None)\n",
            "  134510522969424: TensorSpec(shape=(), dtype=tf.resource, name=None)\n",
            "  134510522969808: TensorSpec(shape=(), dtype=tf.resource, name=None)\n",
            "  134510522969616: TensorSpec(shape=(), dtype=tf.resource, name=None)\n",
            "  134510522964816: TensorSpec(shape=(), dtype=tf.resource, name=None)\n",
            "  134510522970960: TensorSpec(shape=(), dtype=tf.resource, name=None)\n",
            "  134510522971344: TensorSpec(shape=(), dtype=tf.resource, name=None)\n",
            "  134510522971728: TensorSpec(shape=(), dtype=tf.resource, name=None)\n",
            "  134510522971536: TensorSpec(shape=(), dtype=tf.resource, name=None)\n",
            "  134510522966736: TensorSpec(shape=(), dtype=tf.resource, name=None)\n",
            "  134510522972880: TensorSpec(shape=(), dtype=tf.resource, name=None)\n",
            "  134510522973264: TensorSpec(shape=(), dtype=tf.resource, name=None)\n",
            "  134510522974032: TensorSpec(shape=(), dtype=tf.resource, name=None)\n",
            "  134510522973456: TensorSpec(shape=(), dtype=tf.resource, name=None)\n",
            "  134510522968656: TensorSpec(shape=(), dtype=tf.resource, name=None)\n",
            "  134510522959056: TensorSpec(shape=(), dtype=tf.resource, name=None)\n",
            "  134510484718608: TensorSpec(shape=(), dtype=tf.resource, name=None)\n",
            "  134510484717648: TensorSpec(shape=(), dtype=tf.resource, name=None)\n",
            "  134510522970576: TensorSpec(shape=(), dtype=tf.resource, name=None)\n",
            "  134510484718992: TensorSpec(shape=(), dtype=tf.resource, name=None)\n",
            "  134510484720144: TensorSpec(shape=(), dtype=tf.resource, name=None)\n",
            "  134510484720528: TensorSpec(shape=(), dtype=tf.resource, name=None)\n",
            "  134510484720912: TensorSpec(shape=(), dtype=tf.resource, name=None)\n",
            "  134510484720720: TensorSpec(shape=(), dtype=tf.resource, name=None)\n",
            "  134510484718032: TensorSpec(shape=(), dtype=tf.resource, name=None)\n",
            "  134510484722064: TensorSpec(shape=(), dtype=tf.resource, name=None)\n",
            "  134510484722448: TensorSpec(shape=(), dtype=tf.resource, name=None)\n",
            "  134510484722832: TensorSpec(shape=(), dtype=tf.resource, name=None)\n",
            "  134510484722640: TensorSpec(shape=(), dtype=tf.resource, name=None)\n",
            "  134510484718224: TensorSpec(shape=(), dtype=tf.resource, name=None)\n",
            "  134510484723984: TensorSpec(shape=(), dtype=tf.resource, name=None)\n",
            "  134510484724368: TensorSpec(shape=(), dtype=tf.resource, name=None)\n",
            "  134510484724752: TensorSpec(shape=(), dtype=tf.resource, name=None)\n",
            "  134510484724560: TensorSpec(shape=(), dtype=tf.resource, name=None)\n",
            "  134510484719760: TensorSpec(shape=(), dtype=tf.resource, name=None)\n",
            "  134510484725904: TensorSpec(shape=(), dtype=tf.resource, name=None)\n",
            "  134510484726288: TensorSpec(shape=(), dtype=tf.resource, name=None)\n",
            "  134510484726672: TensorSpec(shape=(), dtype=tf.resource, name=None)\n",
            "  134510484726480: TensorSpec(shape=(), dtype=tf.resource, name=None)\n",
            "  134510484721680: TensorSpec(shape=(), dtype=tf.resource, name=None)\n",
            "  134510484727824: TensorSpec(shape=(), dtype=tf.resource, name=None)\n",
            "  134510484728208: TensorSpec(shape=(), dtype=tf.resource, name=None)\n",
            "  134510484728592: TensorSpec(shape=(), dtype=tf.resource, name=None)\n",
            "  134510484728400: TensorSpec(shape=(), dtype=tf.resource, name=None)\n",
            "  134510484723600: TensorSpec(shape=(), dtype=tf.resource, name=None)\n",
            "  134510484729744: TensorSpec(shape=(), dtype=tf.resource, name=None)\n",
            "  134510484730128: TensorSpec(shape=(), dtype=tf.resource, name=None)\n",
            "  134510484730512: TensorSpec(shape=(), dtype=tf.resource, name=None)\n",
            "  134510484730320: TensorSpec(shape=(), dtype=tf.resource, name=None)\n",
            "  134510484725520: TensorSpec(shape=(), dtype=tf.resource, name=None)\n",
            "  134510484731664: TensorSpec(shape=(), dtype=tf.resource, name=None)\n",
            "  134510484732048: TensorSpec(shape=(), dtype=tf.resource, name=None)\n",
            "  134510484732432: TensorSpec(shape=(), dtype=tf.resource, name=None)\n",
            "  134510484732240: TensorSpec(shape=(), dtype=tf.resource, name=None)\n",
            "  134510484727440: TensorSpec(shape=(), dtype=tf.resource, name=None)\n",
            "  134510484733584: TensorSpec(shape=(), dtype=tf.resource, name=None)\n",
            "  134510484718800: TensorSpec(shape=(), dtype=tf.resource, name=None)\n",
            "  134510484554000: TensorSpec(shape=(), dtype=tf.resource, name=None)\n",
            "  134510484733200: TensorSpec(shape=(), dtype=tf.resource, name=None)\n",
            "  134510484731280: TensorSpec(shape=(), dtype=tf.resource, name=None)\n",
            "  134510484555344: TensorSpec(shape=(), dtype=tf.resource, name=None)\n",
            "  134510484555728: TensorSpec(shape=(), dtype=tf.resource, name=None)\n",
            "  134510484556112: TensorSpec(shape=(), dtype=tf.resource, name=None)\n",
            "  134510484555920: TensorSpec(shape=(), dtype=tf.resource, name=None)\n",
            "  134510484554192: TensorSpec(shape=(), dtype=tf.resource, name=None)\n",
            "  134510484557264: TensorSpec(shape=(), dtype=tf.resource, name=None)\n",
            "  134510484557648: TensorSpec(shape=(), dtype=tf.resource, name=None)\n",
            "  134510484558032: TensorSpec(shape=(), dtype=tf.resource, name=None)\n",
            "  134510484557840: TensorSpec(shape=(), dtype=tf.resource, name=None)\n",
            "  134510484554768: TensorSpec(shape=(), dtype=tf.resource, name=None)\n",
            "  134510484559184: TensorSpec(shape=(), dtype=tf.resource, name=None)\n",
            "  134510484559568: TensorSpec(shape=(), dtype=tf.resource, name=None)\n",
            "  134510484559952: TensorSpec(shape=(), dtype=tf.resource, name=None)\n",
            "  134510484559760: TensorSpec(shape=(), dtype=tf.resource, name=None)\n",
            "  134510484554576: TensorSpec(shape=(), dtype=tf.resource, name=None)\n",
            "  134510484561104: TensorSpec(shape=(), dtype=tf.resource, name=None)\n",
            "  134510484561488: TensorSpec(shape=(), dtype=tf.resource, name=None)\n",
            "  134510484561872: TensorSpec(shape=(), dtype=tf.resource, name=None)\n",
            "  134510484561680: TensorSpec(shape=(), dtype=tf.resource, name=None)\n",
            "  134510484556880: TensorSpec(shape=(), dtype=tf.resource, name=None)\n",
            "  134510484563024: TensorSpec(shape=(), dtype=tf.resource, name=None)\n",
            "  134510484563408: TensorSpec(shape=(), dtype=tf.resource, name=None)\n",
            "  134510484563792: TensorSpec(shape=(), dtype=tf.resource, name=None)\n",
            "  134510484563600: TensorSpec(shape=(), dtype=tf.resource, name=None)\n",
            "  134510484558800: TensorSpec(shape=(), dtype=tf.resource, name=None)\n",
            "  134510484564944: TensorSpec(shape=(), dtype=tf.resource, name=None)\n",
            "  134510484565328: TensorSpec(shape=(), dtype=tf.resource, name=None)\n",
            "  134510484565712: TensorSpec(shape=(), dtype=tf.resource, name=None)\n",
            "  134510484565520: TensorSpec(shape=(), dtype=tf.resource, name=None)\n",
            "  134510484560720: TensorSpec(shape=(), dtype=tf.resource, name=None)\n",
            "  134510484566864: TensorSpec(shape=(), dtype=tf.resource, name=None)\n",
            "  134510484567248: TensorSpec(shape=(), dtype=tf.resource, name=None)\n",
            "  134510484567632: TensorSpec(shape=(), dtype=tf.resource, name=None)\n",
            "  134510484567440: TensorSpec(shape=(), dtype=tf.resource, name=None)\n",
            "  134510484562640: TensorSpec(shape=(), dtype=tf.resource, name=None)\n",
            "  134510484566480: TensorSpec(shape=(), dtype=tf.resource, name=None)\n",
            "  134510484569744: TensorSpec(shape=(), dtype=tf.resource, name=None)\n",
            "  134510484569168: TensorSpec(shape=(), dtype=tf.resource, name=None)\n",
            "  134510484569360: TensorSpec(shape=(), dtype=tf.resource, name=None)\n",
            "✅ Exported to crop_disease_model.tflite\n",
            "✅ Saved labels to crop_labels.txt\n"
          ]
        }
      ]
    }
  ]
}